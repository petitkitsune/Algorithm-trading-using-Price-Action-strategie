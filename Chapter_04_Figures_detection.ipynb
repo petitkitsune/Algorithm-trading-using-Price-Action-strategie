{
 "cells": [
  {
   "cell_type": "markdown",
   "metadata": {
    "id": "eHAsKZTzZD9g"
   },
   "source": [
   
    "\n",
    "# Figures detection\n",
    "\n",
    "\n",
    "<br>\n",
    "\n",
    "\n",

   ]
  },
  {
   "cell_type": "code",
   "execution_count": 1,
   "metadata": {
    "colab": {
     "base_uri": "https://localhost:8080/"
    },
    "id": "WgM-HHzQYuTn",
    "outputId": "c3a191d1-6f70-4b11-acfc-308d2a8fffba"
   },
   "outputs": [
    {
     "name": "stdout",
     "output_type": "stream",
     "text": [
      "Requirement already satisfied: yfinance in /Users/noca7ran/Desktop/ml-course/env/lib/python3.9/site-packages (0.1.70)\n",
      "Requirement already satisfied: numpy>=1.15 in /Users/noca7ran/Desktop/ml-course/env/lib/python3.9/site-packages (from yfinance) (1.21.5)\n",
      "Requirement already satisfied: requests>=2.26 in /Users/noca7ran/Desktop/ml-course/env/lib/python3.9/site-packages (from yfinance) (2.27.1)\n",
      "Requirement already satisfied: lxml>=4.5.1 in /Users/noca7ran/Desktop/ml-course/env/lib/python3.9/site-packages (from yfinance) (4.8.0)\n",
      "Requirement already satisfied: multitasking>=0.0.7 in /Users/noca7ran/Desktop/ml-course/env/lib/python3.9/site-packages (from yfinance) (0.0.10)\n",
      "Requirement already satisfied: pandas>=0.24.0 in /Users/noca7ran/Desktop/ml-course/env/lib/python3.9/site-packages (from yfinance) (1.4.2)\n",
      "Requirement already satisfied: python-dateutil>=2.8.1 in /Users/noca7ran/Desktop/ml-course/env/lib/python3.9/site-packages (from pandas>=0.24.0->yfinance) (2.8.2)\n",
      "Requirement already satisfied: pytz>=2020.1 in /Users/noca7ran/Desktop/ml-course/env/lib/python3.9/site-packages (from pandas>=0.24.0->yfinance) (2021.3)\n",
      "Requirement already satisfied: six>=1.5 in /Users/noca7ran/Desktop/ml-course/env/lib/python3.9/site-packages (from python-dateutil>=2.8.1->pandas>=0.24.0->yfinance) (1.16.0)\n",
      "Requirement already satisfied: urllib3<1.27,>=1.21.1 in /Users/noca7ran/Desktop/ml-course/env/lib/python3.9/site-packages (from requests>=2.26->yfinance) (1.26.9)\n",
      "Requirement already satisfied: charset-normalizer~=2.0.0 in /Users/noca7ran/Desktop/ml-course/env/lib/python3.9/site-packages (from requests>=2.26->yfinance) (2.0.12)\n",
      "Requirement already satisfied: idna<4,>=2.5 in /Users/noca7ran/Desktop/ml-course/env/lib/python3.9/site-packages (from requests>=2.26->yfinance) (3.3)\n",
      "Requirement already satisfied: certifi>=2017.4.17 in /Users/noca7ran/Desktop/ml-course/env/lib/python3.9/site-packages (from requests>=2.26->yfinance) (2021.10.8)\n",
      "Collecting mpl_finance\n",
      "  Downloading mpl_finance-0.10.1-py3-none-any.whl (8.4 kB)\n",
      "Requirement already satisfied: matplotlib in /Users/noca7ran/Desktop/ml-course/env/lib/python3.9/site-packages (from mpl_finance) (3.5.1)\n",
      "Requirement already satisfied: fonttools>=4.22.0 in /Users/noca7ran/Desktop/ml-course/env/lib/python3.9/site-packages (from matplotlib->mpl_finance) (4.25.0)\n",
      "Requirement already satisfied: pillow>=6.2.0 in /Users/noca7ran/Desktop/ml-course/env/lib/python3.9/site-packages (from matplotlib->mpl_finance) (9.0.1)\n",
      "Requirement already satisfied: numpy>=1.17 in /Users/noca7ran/Desktop/ml-course/env/lib/python3.9/site-packages (from matplotlib->mpl_finance) (1.21.5)\n",
      "Requirement already satisfied: packaging>=20.0 in /Users/noca7ran/Desktop/ml-course/env/lib/python3.9/site-packages (from matplotlib->mpl_finance) (21.3)\n",
      "Requirement already satisfied: pyparsing>=2.2.1 in /Users/noca7ran/Desktop/ml-course/env/lib/python3.9/site-packages (from matplotlib->mpl_finance) (3.0.4)\n",
      "Requirement already satisfied: cycler>=0.10 in /Users/noca7ran/Desktop/ml-course/env/lib/python3.9/site-packages (from matplotlib->mpl_finance) (0.11.0)\n",
      "Requirement already satisfied: kiwisolver>=1.0.1 in /Users/noca7ran/Desktop/ml-course/env/lib/python3.9/site-packages (from matplotlib->mpl_finance) (1.3.2)\n",
      "Requirement already satisfied: python-dateutil>=2.7 in /Users/noca7ran/Desktop/ml-course/env/lib/python3.9/site-packages (from matplotlib->mpl_finance) (2.8.2)\n",
      "Requirement already satisfied: six>=1.5 in /Users/noca7ran/Desktop/ml-course/env/lib/python3.9/site-packages (from python-dateutil>=2.7->matplotlib->mpl_finance) (1.16.0)\n",
      "Installing collected packages: mpl-finance\n",
      "Successfully installed mpl-finance-0.10.1\n"
     ]
    }
   ],
   "source": [
    "!pip install yfinance\n",
    "!pip install mpl_finance"
   ]
  },
  {
   "cell_type": "code",
   "execution_count": 5,
   "metadata": {
    "id": "Od_87k3EZXNM"
   },
   "outputs": [],
   "source": [
    "import pandas as pd\n",
    "import numpy as np\n",
    "import yfinance as yf\n",
    "from mpl_finance import candlestick_ohlc\n",
    "import matplotlib.dates as mpl_dates\n",
    "import matplotlib.pyplot as plt"
   ]
  },
  {
   "cell_type": "code",
   "execution_count": 6,
   "metadata": {
    "id": "g96nPxUmZZN4"
   },
   "outputs": [],
   "source": [
    "# The code here will allow you to switch your graphics to dark mode for those who choose to code in dark mode\n",
    "import matplotlib.pyplot as plt\n",
    "\n",
    "import matplotlib as mpl\n",
    "from matplotlib import cycler\n",
    "colors = cycler('color',\n",
    "                ['#669FEE', '#66EE91', '#9988DD',\n",
    "                 '#EECC55', '#88BB44', '#FFBBBB'])\n",
    "plt.rc('figure', facecolor='#313233')\n",
    "plt.rc('axes', facecolor=\"#313233\", edgecolor='none',\n",
    "       axisbelow=True, grid=True, prop_cycle=colors,\n",
    "       labelcolor='gray')\n",
    "plt.rc('grid', color='474A4A', linestyle='solid')\n",
    "plt.rc('xtick', color='gray')\n",
    "plt.rc('ytick', direction='out', color='gray')\n",
    "plt.rc('legend', facecolor=\"#313233\", edgecolor=\"#313233\")\n",
    "plt.rc(\"text\", color=\"#C9C9C9\")\n",
    "plt.rcParams['figure.figsize'] = [20, 8]"
   ]
  },
  {
   "cell_type": "markdown",
   "metadata": {
    "id": "3F3tzj1dZcX0"
   },
   "source": [
    "# Import the data"
   ]
  },
  {
   "cell_type": "code",
   "execution_count": 7,
   "metadata": {
    "colab": {
     "base_uri": "https://localhost:8080/",
     "height": 467
    },
    "id": "XPg7jeVyZbYh",
    "outputId": "1667ff67-9b3d-40c1-fe1a-3f4b5e0867ca"
   },
   "outputs": [
    {
     "name": "stdout",
     "output_type": "stream",
     "text": [
      "[*********************100%***********************]  1 of 1 completed\n"
     ]
    },
    {
     "data": {
      "text/html": [
       "<div>\n",
       "<style scoped>\n",
       "    .dataframe tbody tr th:only-of-type {\n",
       "        vertical-align: middle;\n",
       "    }\n",
       "\n",
       "    .dataframe tbody tr th {\n",
       "        vertical-align: top;\n",
       "    }\n",
       "\n",
       "    .dataframe thead th {\n",
       "        text-align: right;\n",
       "    }\n",
       "</style>\n",
       "<table border=\"1\" class=\"dataframe\">\n",
       "  <thead>\n",
       "    <tr style=\"text-align: right;\">\n",
       "      <th></th>\n",
       "      <th>open</th>\n",
       "      <th>high</th>\n",
       "      <th>low</th>\n",
       "      <th>close</th>\n",
       "      <th>adj close</th>\n",
       "      <th>volume</th>\n",
       "      <th>date</th>\n",
       "      <th>Candle way</th>\n",
       "      <th>amplitude</th>\n",
       "    </tr>\n",
       "    <tr>\n",
       "      <th>time</th>\n",
       "      <th></th>\n",
       "      <th></th>\n",
       "      <th></th>\n",
       "      <th></th>\n",
       "      <th></th>\n",
       "      <th></th>\n",
       "      <th></th>\n",
       "      <th></th>\n",
       "      <th></th>\n",
       "    </tr>\n",
       "  </thead>\n",
       "  <tbody>\n",
       "    <tr>\n",
       "      <th>2009-12-31</th>\n",
       "      <td>311.208527</td>\n",
       "      <td>311.532288</td>\n",
       "      <td>308.832428</td>\n",
       "      <td>308.832428</td>\n",
       "      <td>308.832428</td>\n",
       "      <td>2448744</td>\n",
       "      <td>14609.0</td>\n",
       "      <td>-1</td>\n",
       "      <td>2.376099</td>\n",
       "    </tr>\n",
       "    <tr>\n",
       "      <th>2010-01-04</th>\n",
       "      <td>312.304413</td>\n",
       "      <td>313.579620</td>\n",
       "      <td>310.954468</td>\n",
       "      <td>312.204773</td>\n",
       "      <td>312.204773</td>\n",
       "      <td>3927065</td>\n",
       "      <td>14613.0</td>\n",
       "      <td>-1</td>\n",
       "      <td>0.099640</td>\n",
       "    </tr>\n",
       "    <tr>\n",
       "      <th>2010-01-05</th>\n",
       "      <td>312.418976</td>\n",
       "      <td>312.747742</td>\n",
       "      <td>309.609497</td>\n",
       "      <td>310.829926</td>\n",
       "      <td>310.829926</td>\n",
       "      <td>6031925</td>\n",
       "      <td>14614.0</td>\n",
       "      <td>-1</td>\n",
       "      <td>1.589050</td>\n",
       "    </tr>\n",
       "    <tr>\n",
       "      <th>2010-01-06</th>\n",
       "      <td>311.761444</td>\n",
       "      <td>311.761444</td>\n",
       "      <td>302.047852</td>\n",
       "      <td>302.994293</td>\n",
       "      <td>302.994293</td>\n",
       "      <td>7987226</td>\n",
       "      <td>14615.0</td>\n",
       "      <td>-1</td>\n",
       "      <td>8.767151</td>\n",
       "    </tr>\n",
       "    <tr>\n",
       "      <th>2010-01-07</th>\n",
       "      <td>303.562164</td>\n",
       "      <td>303.861053</td>\n",
       "      <td>295.218445</td>\n",
       "      <td>295.940735</td>\n",
       "      <td>295.940735</td>\n",
       "      <td>12876685</td>\n",
       "      <td>14616.0</td>\n",
       "      <td>-1</td>\n",
       "      <td>7.621429</td>\n",
       "    </tr>\n",
       "    <tr>\n",
       "      <th>...</th>\n",
       "      <td>...</td>\n",
       "      <td>...</td>\n",
       "      <td>...</td>\n",
       "      <td>...</td>\n",
       "      <td>...</td>\n",
       "      <td>...</td>\n",
       "      <td>...</td>\n",
       "      <td>...</td>\n",
       "      <td>...</td>\n",
       "    </tr>\n",
       "    <tr>\n",
       "      <th>2022-05-18</th>\n",
       "      <td>2304.750000</td>\n",
       "      <td>2313.913086</td>\n",
       "      <td>2242.840088</td>\n",
       "      <td>2248.020020</td>\n",
       "      <td>2248.020020</td>\n",
       "      <td>1399100</td>\n",
       "      <td>19130.0</td>\n",
       "      <td>-1</td>\n",
       "      <td>56.729980</td>\n",
       "    </tr>\n",
       "    <tr>\n",
       "      <th>2022-05-19</th>\n",
       "      <td>2236.820068</td>\n",
       "      <td>2271.750000</td>\n",
       "      <td>2209.360107</td>\n",
       "      <td>2214.909912</td>\n",
       "      <td>2214.909912</td>\n",
       "      <td>1459600</td>\n",
       "      <td>19131.0</td>\n",
       "      <td>-1</td>\n",
       "      <td>21.910156</td>\n",
       "    </tr>\n",
       "    <tr>\n",
       "      <th>2022-05-20</th>\n",
       "      <td>2241.709961</td>\n",
       "      <td>2251.000000</td>\n",
       "      <td>2127.459961</td>\n",
       "      <td>2186.260010</td>\n",
       "      <td>2186.260010</td>\n",
       "      <td>1878100</td>\n",
       "      <td>19132.0</td>\n",
       "      <td>-1</td>\n",
       "      <td>55.449951</td>\n",
       "    </tr>\n",
       "    <tr>\n",
       "      <th>2022-05-23</th>\n",
       "      <td>2202.080078</td>\n",
       "      <td>2240.110107</td>\n",
       "      <td>2183.084961</td>\n",
       "      <td>2233.330078</td>\n",
       "      <td>2233.330078</td>\n",
       "      <td>1577900</td>\n",
       "      <td>19135.0</td>\n",
       "      <td>1</td>\n",
       "      <td>31.250000</td>\n",
       "    </tr>\n",
       "    <tr>\n",
       "      <th>2022-05-24</th>\n",
       "      <td>2127.550049</td>\n",
       "      <td>2127.899902</td>\n",
       "      <td>2044.160034</td>\n",
       "      <td>2118.520020</td>\n",
       "      <td>2118.520020</td>\n",
       "      <td>3016000</td>\n",
       "      <td>19136.0</td>\n",
       "      <td>-1</td>\n",
       "      <td>9.030029</td>\n",
       "    </tr>\n",
       "  </tbody>\n",
       "</table>\n",
       "<p>3121 rows × 9 columns</p>\n",
       "</div>"
      ],
      "text/plain": [
       "                   open         high          low        close    adj close  \\\n",
       "time                                                                          \n",
       "2009-12-31   311.208527   311.532288   308.832428   308.832428   308.832428   \n",
       "2010-01-04   312.304413   313.579620   310.954468   312.204773   312.204773   \n",
       "2010-01-05   312.418976   312.747742   309.609497   310.829926   310.829926   \n",
       "2010-01-06   311.761444   311.761444   302.047852   302.994293   302.994293   \n",
       "2010-01-07   303.562164   303.861053   295.218445   295.940735   295.940735   \n",
       "...                 ...          ...          ...          ...          ...   \n",
       "2022-05-18  2304.750000  2313.913086  2242.840088  2248.020020  2248.020020   \n",
       "2022-05-19  2236.820068  2271.750000  2209.360107  2214.909912  2214.909912   \n",
       "2022-05-20  2241.709961  2251.000000  2127.459961  2186.260010  2186.260010   \n",
       "2022-05-23  2202.080078  2240.110107  2183.084961  2233.330078  2233.330078   \n",
       "2022-05-24  2127.550049  2127.899902  2044.160034  2118.520020  2118.520020   \n",
       "\n",
       "              volume     date  Candle way  amplitude  \n",
       "time                                                  \n",
       "2009-12-31   2448744  14609.0          -1   2.376099  \n",
       "2010-01-04   3927065  14613.0          -1   0.099640  \n",
       "2010-01-05   6031925  14614.0          -1   1.589050  \n",
       "2010-01-06   7987226  14615.0          -1   8.767151  \n",
       "2010-01-07  12876685  14616.0          -1   7.621429  \n",
       "...              ...      ...         ...        ...  \n",
       "2022-05-18   1399100  19130.0          -1  56.729980  \n",
       "2022-05-19   1459600  19131.0          -1  21.910156  \n",
       "2022-05-20   1878100  19132.0          -1  55.449951  \n",
       "2022-05-23   1577900  19135.0           1  31.250000  \n",
       "2022-05-24   3016000  19136.0          -1   9.030029  \n",
       "\n",
       "[3121 rows x 9 columns]"
      ]
     },
     "execution_count": 7,
     "metadata": {},
     "output_type": "execute_result"
    }
   ],
   "source": [
    "# Import stock prices from Yahoo Finance\n",
    "df = yf.download(\"GOOG\", start=\"2010-01-01\")\n",
    "\n",
    "# Create a Date column to plot the Candlestick later (Not mandatory if you don't want to plot the candlestick)\n",
    "df[\"Date\"] = pd.to_datetime(df.index)\n",
    "df[\"Date\"] = df[\"Date\"].apply(mpl_dates.date2num)\n",
    "\n",
    "\n",
    "# Rename columns\n",
    "df.columns = [\"open\", \"high\", \"low\", \"close\", \"adj close\", \"volume\", \"date\"]\n",
    "df.index.name = \"time\"\n",
    "\n",
    "df[\"Candle way\"] = -1\n",
    "df.loc[(df[\"open\"] - df[\"close\"]) < 0, \"Candle way\"] = 1\n",
    "df[\"amplitude\"] = np.abs(df[\"close\"] - df[\"open\"])\n",
    "\n",
    "\n",
    "df"
   ]
  },
  {
   "cell_type": "markdown",
   "metadata": {
    "id": "Ysgt9wqS8LsL"
   },
   "source": [
    "# Bullish engulfing"
   ]
  },
  {
   "cell_type": "code",
   "execution_count": 8,
   "metadata": {
    "id": "SMV8jhW2Zjvl"
   },
   "outputs": [],
   "source": [
    "df[\"Bullish Engulfing\"] = np.nan\n",
    "\n",
    "df.loc[\n",
    "       # 5 consequtive decreasing candlestick and Today increase\n",
    "       (df[\"Candle way\"].shift(5) == -1) &\\\n",
    "       (df[\"Candle way\"].shift(4) == -1) &\\\n",
    "       (df[\"Candle way\"].shift(3) == -1) &\\\n",
    "       (df[\"Candle way\"].shift(2) == -1) &\\\n",
    "       (df[\"Candle way\"].shift(1) == -1) &\\\n",
    "       (df[\"Candle way\"] == 1) &\\\n",
    "      \n",
    "\n",
    "       # Close of the last decreasing candlestick = Open of today increase candlestick\n",
    "       (df[\"close\"].shift(1) < df[\"open\"]*(1+0.5/100)) &\\\n",
    "       (df[\"close\"].shift(1) > df[\"open\"]*(1-0.5/100)) &\\\n",
    "\n",
    "\n",
    "       # Last decreaing candlestick is less strong than the Today increasing candlestick\n",
    "       (df[\"amplitude\"].shift(1)*1.5 < df[\"amplitude\"]), \"Bullish Engulfing\"] = 1\n"
   ]
  },
  {
   "cell_type": "code",
   "execution_count": 9,
   "metadata": {
    "colab": {
     "base_uri": "https://localhost:8080/"
    },
    "id": "UaQTR-p4j6y1",
    "outputId": "7c832327-a779-471d-e098-4fec61d289af"
   },
   "outputs": [
    {
     "data": {
      "text/plain": [
       "time\n",
       "2010-03-01    1.0\n",
       "2012-01-27    1.0\n",
       "2013-06-28    1.0\n",
       "2013-07-30    1.0\n",
       "2013-08-19    1.0\n",
       "2015-05-04    1.0\n",
       "2016-06-23    1.0\n",
       "2017-04-12    1.0\n",
       "2018-01-02    1.0\n",
       "2018-11-15    1.0\n",
       "Name: Bullish Engulfing, dtype: float64"
      ]
     },
     "execution_count": 9,
     "metadata": {},
     "output_type": "execute_result"
    }
   ],
   "source": [
    "df[\"Bullish Engulfing\"].dropna()\n"
   ]
  },
  {
   "cell_type": "markdown",
   "metadata": {
    "id": "9nLwPAnW-HI5"
   },
   "source": [
    "# Verification"
   ]
  },
  {
   "cell_type": "code",
   "execution_count": 11,
   "metadata": {
    "colab": {
     "base_uri": "https://localhost:8080/",
     "height": 540
    },
    "id": "T9xHn68Uj87X",
    "outputId": "0d6c1b3c-d595-49ab-b8e1-72ba8a87d89d"
   },
   "outputs": [
    {
     "data": {
      "image/png": "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\n",
      "text/plain": [
       "<Figure size 1440x576 with 1 Axes>"
      ]
     },
     "metadata": {},
     "output_type": "display_data"
    }
   ],
   "source": [
    "df_bis = df.loc[\"2013-06-20\":\"2013-07-5\"]\n",
    "\n",
    "# Initialize the graph\n",
    "fig, ax = plt.subplots()\n",
    "\n",
    "# Plot the candlestick\n",
    "candlestick_ohlc(ax,df_bis[[\"date\", \"open\", \"high\", \"low\", \"close\"]].values,width=0.6, \\\n",
    "                  colorup='#57CE95', colordown='#CE5757', alpha=0.8)\n",
    "\n",
    "# Put date as the x axis\n",
    "date_format = mpl_dates.DateFormatter('%d %b %Y')\n",
    "ax.xaxis.set_major_formatter(date_format)\n",
    "fig.autofmt_xdate()\n",
    "fig.tight_layout()\n",
    "plt.show()\n",
    "plt.close()"
   ]
  },
  {
   "cell_type": "markdown",
   "metadata": {
    "id": "XOHEvrdpCKxK"
   },
   "source": [
    "# Bearish Engulfing"
   ]
  },
  {
   "cell_type": "code",
   "execution_count": 12,
   "metadata": {
    "id": "qrmMYpaAmJkq"
   },
   "outputs": [],
   "source": [
    "df[\"Bearish Engulfing\"] = np.nan\n",
    "\n",
    "df.loc[\n",
    "       # 5 consequtive increasing candlestick and Today decrease\n",
    "       (df[\"Candle way\"].shift(5) == 1) &\\\n",
    "       (df[\"Candle way\"].shift(4) == 1) &\\\n",
    "       (df[\"Candle way\"].shift(3) == 1) &\\\n",
    "       (df[\"Candle way\"].shift(2) == 1) &\\\n",
    "       (df[\"Candle way\"].shift(1) == 1) &\\\n",
    "       (df[\"Candle way\"] == -1) &\\\n",
    "\n",
    "       # Close of the last increasing candlestick = Open of today decrease candlestick\n",
    "       (df[\"close\"].shift(1) < df[\"open\"]*(1+0.5/100)) &\\\n",
    "       (df[\"close\"].shift(1) > df[\"open\"]*(1-0.5/100)) &\\\n",
    "\n",
    "       # Last increaing candlestick is less strong than the Today decreasing candlestick\n",
    "       (df[\"amplitude\"].shift(1) * 1.5< df[\"amplitude\"]), \"Bearish Engulfing\"] = -1"
   ]
  },
  {
   "cell_type": "code",
   "execution_count": 13,
   "metadata": {
    "colab": {
     "base_uri": "https://localhost:8080/"
    },
    "id": "bN4hrJoOpAni",
    "outputId": "97e9a24f-1ab8-4c76-d1df-d7a25a9035a6"
   },
   "outputs": [
    {
     "data": {
      "text/plain": [
       "time\n",
       "2015-03-06   -1.0\n",
       "2015-07-23   -1.0\n",
       "2015-11-09   -1.0\n",
       "2017-05-31   -1.0\n",
       "2018-02-22   -1.0\n",
       "2019-12-11   -1.0\n",
       "2020-02-20   -1.0\n",
       "2020-12-09   -1.0\n",
       "2021-07-15   -1.0\n",
       "2021-07-27   -1.0\n",
       "2021-08-26   -1.0\n",
       "2021-12-28   -1.0\n",
       "Name: Bearish Engulfing, dtype: float64"
      ]
     },
     "execution_count": 13,
     "metadata": {},
     "output_type": "execute_result"
    }
   ],
   "source": [
    "df[\"Bearish Engulfing\"].dropna()"
   ]
  },
  {
   "cell_type": "code",
   "execution_count": 14,
   "metadata": {
    "colab": {
     "base_uri": "https://localhost:8080/",
     "height": 540
    },
    "id": "uU0AkkQVpByu",
    "outputId": "55d57f26-6fba-4ea9-9eca-1fefc1cf81a4"
   },
   "outputs": [
    {
     "data": {
      "image/png": "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\n",
      "text/plain": [
       "<Figure size 1440x576 with 1 Axes>"
      ]
     },
     "metadata": {},
     "output_type": "display_data"
    }
   ],
   "source": [
    "df_bis = df.loc[\"2015-02-27\":\"2015-03-15\"]\n",
    "\n",
    "# Initialize the graph\n",
    "fig, ax = plt.subplots()\n",
    "\n",
    "# Plot the candlestick\n",
    "candlestick_ohlc(ax,df_bis[[\"date\", \"open\", \"high\", \"low\", \"close\"]].values,width=0.6, \\\n",
    "                  colorup='#57CE95', colordown='#CE5757', alpha=0.8)\n",
    "\n",
    "# Put date as the x axis\n",
    "date_format = mpl_dates.DateFormatter('%d %b %Y')\n",
    "ax.xaxis.set_major_formatter(date_format)\n",
    "fig.autofmt_xdate()\n",
    "fig.tight_layout()"
   ]
  },
  {
   "cell_type": "markdown",
   "metadata": {
    "id": "F2JYiZ-up2RI"
   },
   "source": [
    "# Backtest"
   ]
  },
  {
   "cell_type": "code",
   "execution_count": 15,
   "metadata": {
    "colab": {
     "base_uri": "https://localhost:8080/"
    },
    "id": "Pq0GtswCqJ8W",
    "outputId": "4a2a5199-0251-49ac-c9c8-c5663a308c34"
   },
   "outputs": [
    {
     "data": {
      "text/plain": [
       "time\n",
       "2009-12-31    0.0\n",
       "2010-01-04    0.0\n",
       "2010-01-05    0.0\n",
       "2010-01-06    0.0\n",
       "2010-01-07    0.0\n",
       "             ... \n",
       "2022-05-18    0.0\n",
       "2022-05-19    0.0\n",
       "2022-05-20    0.0\n",
       "2022-05-23    0.0\n",
       "2022-05-24    0.0\n",
       "Name: signal, Length: 3121, dtype: float64"
      ]
     },
     "execution_count": 15,
     "metadata": {},
     "output_type": "execute_result"
    }
   ],
   "source": [
    "df[\"signal\"] = df[\"Bullish Engulfing\"].fillna(value=0) + df[\"Bearish Engulfing\"].fillna(value=0)\n",
    "df[\"signal\"].dropna()"
   ]
  },
  {
   "cell_type": "code",
   "execution_count": 16,
   "metadata": {
    "colab": {
     "base_uri": "https://localhost:8080/",
     "height": 482
    },
    "id": "A0l-buFFp4DU",
    "outputId": "b555c611-f1ea-40c0-d8e0-1ae66e19a9ca"
   },
   "outputs": [
    {
     "data": {
      "text/plain": [
       "<AxesSubplot:xlabel='time'>"
      ]
     },
     "execution_count": 16,
     "metadata": {},
     "output_type": "execute_result"
    },
    {
     "data": {
      "image/png": "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\n",
      "text/plain": [
       "<Figure size 1080x576 with 1 Axes>"
      ]
     },
     "metadata": {},
     "output_type": "display_data"
    }
   ],
   "source": [
    "duration = 5\n",
    "\n",
    "# Compute the percentage of variation of the asset\n",
    "df[\"pct\"] = df[\"close\"].pct_change(1)\n",
    "\n",
    "# Compute the return of the strategy\n",
    "#df[\"return\"] = df[\"signal\"].shift(1) * df[\"pct\"].shift(0)\n",
    "df[\"return\"] = df[\"signal\"].shift(2) * (df[\"pct\"].shift(0) + df[\"pct\"].shift(1))\n",
    "df[\"return\"] = np.array([df[\"pct\"].shift(i) for i in range(duration)]).sum(axis=0) * (df[\"signal\"].shift(duration))\n",
    "\n",
    "\n",
    "df[\"return\"].cumsum().plot(figsize=(15,8))"
   ]
  },
  {
   "cell_type": "markdown",
   "metadata": {
    "id": "TYPVBUjtDKRI"
   },
   "source": [
    "# Automatisation"
   ]
  },
  {
   "cell_type": "code",
   "execution_count": 17,
   "metadata": {
    "id": "YfQv0FZ73QyP"
   },
   "outputs": [],
   "source": [
    "def engulfing(symbol, spread=0.00, duration=5):\n",
    "  # Import stock prices from Yahoo Finance\n",
    "  df = yf.download(symbol, start=\"2010-01-01\")\n",
    "\n",
    "  # Rename columns\n",
    "  df.columns = [\"open\", \"high\", \"low\", \"close\", \"adj close\", \"volume\"]\n",
    "  df.index.name = \"time\"\n",
    "\n",
    "  df[\"Candle way\"] = -1\n",
    "  df.loc[(df[\"open\"] - df[\"close\"]) < 0, \"Candle way\"] = 1\n",
    "  df[\"amplitude\"] = np.abs(df[\"close\"] - df[\"open\"])\n",
    "\n",
    "\n",
    "  df[\"Bullish Engulfing\"] = np.nan\n",
    "\n",
    "  df.loc[\n",
    "      # 5 consequtive decreasing candlestick and Today increase\n",
    "      (df[\"Candle way\"].shift(5) == -1) &\\\n",
    "      (df[\"Candle way\"].shift(4) == -1) &\\\n",
    "      (df[\"Candle way\"].shift(3) == -1) &\\\n",
    "      (df[\"Candle way\"].shift(2) == -1) &\\\n",
    "      (df[\"Candle way\"].shift(1) == -1) &\\\n",
    "      (df[\"Candle way\"] == 1) &\\\n",
    "\n",
    "      # Close of the last decreasing candlestick = Open of today increase candlestick\n",
    "      (df[\"close\"].shift(1) < df[\"open\"]*(1+0.5/100)) &\\\n",
    "      (df[\"close\"].shift(1) > df[\"open\"]*(1-0.5/100)) &\\\n",
    "\n",
    "      # Last decreaing candlestick is less strong than the Today increasing candlestick\n",
    "      (df[\"amplitude\"].shift(1) * 1.5< df[\"amplitude\"]), \"Bullish Engulfing\"] = 1\n",
    "\n",
    "\n",
    "  df[\"Bearish Engulfing\"] = np.nan\n",
    "\n",
    "  df.loc[\n",
    "      # 5 consequtive decreasing candlestick and Today increase\n",
    "      (df[\"Candle way\"].shift(5) == 1) &\\\n",
    "      (df[\"Candle way\"].shift(4) == 1) &\\\n",
    "      (df[\"Candle way\"].shift(3) == 1) &\\\n",
    "      (df[\"Candle way\"].shift(2) == 1) &\\\n",
    "      (df[\"Candle way\"].shift(1) == 1) &\\\n",
    "      (df[\"Candle way\"] == -1) &\\\n",
    "\n",
    "      # Close of the last decreasing candlestick = Open of today increase candlestick\n",
    "      (df[\"close\"].shift(1) < df[\"open\"]*(1+0.5/100)) &\\\n",
    "      (df[\"close\"].shift(1) > df[\"open\"]*(1-0.5/100)) &\\\n",
    "\n",
    "      # Last decreaing candlestick is less strong than the Today increasing candlestick\n",
    "      (df[\"amplitude\"].shift(1) * 1.5< df[\"amplitude\"]), \"Bearish Engulfing\"] = -1\n",
    "\n",
    "  df[\"signal\"] = df[\"Bullish Engulfing\"].fillna(value=0) + df[\"Bearish Engulfing\"].fillna(value=0)\n",
    "\n",
    "  # Compute the percentage of variation of the asset\n",
    "  df[\"pct\"] = df[\"close\"].pct_change(1)\n",
    "\n",
    "  # Compute the return of the strategy\n",
    "  df[\"return\"] = np.array([df[\"pct\"].shift(i) for i in range(duration)]).sum(axis=0) * (df[\"signal\"].shift(duration))\n",
    "\n",
    "  return df[\"return\"]"
   ]
  },
  {
   "cell_type": "code",
   "execution_count": 26,
   "metadata": {
    "colab": {
     "base_uri": "https://localhost:8080/",
     "height": 499
    },
    "id": "BCtfxq2v4ZO_",
    "outputId": "0e55fc76-d968-4e1c-902e-5408cf4af12e"
   },
   "outputs": [
    {
     "name": "stdout",
     "output_type": "stream",
     "text": [
      "[*********************100%***********************]  1 of 1 completed\n"
     ]
    },
    {
     "data": {
      "text/plain": [
       "<AxesSubplot:xlabel='time'>"
      ]
     },
     "execution_count": 26,
     "metadata": {},
     "output_type": "execute_result"
    },
    {
     "data": {
      "image/png": "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\n",
      "text/plain": [
       "<Figure size 1440x576 with 1 Axes>"
      ]
     },
     "metadata": {},
     "output_type": "display_data"
    }
   ],
   "source": [
    "engulfing(\"GBPUSD=X\").cumsum().plot()"
   ]
  },
  {
   "cell_type": "code",
   "execution_count": 19,
   "metadata": {
    "colab": {
     "base_uri": "https://localhost:8080/",
     "height": 499
    },
    "id": "xdehV8ez4efg",
    "outputId": "6bec2441-6db7-4d85-820f-244bb8dd4d9f"
   },
   "outputs": [
    {
     "name": "stdout",
     "output_type": "stream",
     "text": [
      "[*********************100%***********************]  1 of 1 completed\n"
     ]
    },
    {
     "data": {
      "text/plain": [
       "<AxesSubplot:xlabel='time'>"
      ]
     },
     "execution_count": 19,
     "metadata": {},
     "output_type": "execute_result"
    },
    {
     "data": {
      "image/png": "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\n",
      "text/plain": [
       "<Figure size 1440x576 with 1 Axes>"
      ]
     },
     "metadata": {},
     "output_type": "display_data"
    }
   ],
   "source": [
    "engulfing(\"GOOG\").cumsum().plot()"
   ]
  },
  {
   "cell_type": "code",
   "execution_count": null,
   "metadata": {
    "id": "H2MycaQNGECf"
   },
   "outputs": [],
   "source": []
  },
  {
   "cell_type": "code",
   "execution_count": null,
   "metadata": {},
   "outputs": [],
   "source": []
  }
 ],
 "metadata": {
  "colab": {
   "name": "EN - PA Chapter 06: Figures recognition .ipynb",
   "provenance": []
  },
  "kernelspec": {
   "display_name": "Python 3",
   "language": "python",
   "name": "python3"
  },
  "language_info": {
   "codemirror_mode": {
    "name": "ipython",
    "version": 3
   },
   "file_extension": ".py",
   "mimetype": "text/x-python",
   "name": "python",
   "nbconvert_exporter": "python",
   "pygments_lexer": "ipython3",
   "version": "3.9.12"
  }
 },
 "nbformat": 4,
 "nbformat_minor": 1
}
